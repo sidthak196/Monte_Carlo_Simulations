{
 "cells": [
  {
   "cell_type": "markdown",
   "metadata": {},
   "source": [
    "# Modelling European Swaptions using Short Rate Models"
   ]
  },
  {
   "cell_type": "code",
   "execution_count": 1,
   "metadata": {},
   "outputs": [],
   "source": [
    "import numpy as np\n",
    "import matplotlib.pyplot as plt\n",
    "import statsmodels.api as sm\n",
    "import pandas as pd\n",
    "from math import prod\n",
    "import scipy.optimize as scop\n",
    "import itertools"
   ]
  },
  {
   "cell_type": "markdown",
   "metadata": {},
   "source": [
    "## Initialize Variables "
   ]
  },
  {
   "cell_type": "code",
   "execution_count": 48,
   "metadata": {},
   "outputs": [],
   "source": [
    "sig = 0.3       #Initial Volatility assumption\n",
    "d_steps = 20    #Discritizations steps \n",
    "N =100000      #Simulations\n",
    "Max_Time = 30   #Maximum time in this model"
   ]
  },
  {
   "cell_type": "markdown",
   "metadata": {},
   "source": [
    "## Black Derman Toy Model Calibration and Bond Valuation"
   ]
  },
  {
   "cell_type": "markdown",
   "metadata": {},
   "source": [
    "### Generate Random Variables and Bond Data"
   ]
  },
  {
   "cell_type": "code",
   "execution_count": 33,
   "metadata": {},
   "outputs": [],
   "source": [
    "#generate Normal Random variables to reduce simulation error - Common random variable method\n",
    "def generateRandomVars(T):\n",
    "    #z1 : array [time][simulation]\n",
    "    z1 = [np.random.normal(0,1,N) for i in range(int(T*d_steps))]\n",
    "    return z1\n",
    "\n",
    "def theta1(alpha, beta, t):\n",
    "    return (alpha*t + beta * (t**2)/2)\n",
    " \n",
    "x= generateRandomVars(Max_Time)\n",
    "#Calibration using 10 Bonds : Bond prices from bootstrapping results \n",
    "#List of  CB Prices (Bond Price, tenure)\n",
    "Bond_prices = [(0.969777925008976,1),(0.936177883024023,2),(0.906459602841119,3),(0.880358920389114,4),(0.854468123403658,5),(0.829964430055826,6),(0.805987832269141,7),(0.784004238503967,8),(0.762790697492938,9),(0.742319437015706,10)]\n",
    "#Bond Prices from 11yrs to 30 yrs\n",
    "#,(0.719216096343259,11),(0.696413734865548,12),(0.673920527224596,13),(0.651744111645529,14),(0.62989159604486,15),(0.608369564739779,16),(0.587184085729413,17),(0.566340718518812,18),(0.545844522456156,19),(0.525700065553639,20),(0.512556924351337,21),(0.499988915875595,22),(0.487972204701656,23),(0.476484053280391,24),(0.4655027693762,25),(0.455007656160627,26),(0.444978964822177,27),(0.435397849560348,28),(0.426246324839216,29),(0.417507224782538,30)]"
   ]
  },
  {
   "cell_type": "markdown",
   "metadata": {},
   "source": [
    "### Define Function for Bond Valuation and Calibration"
   ]
  },
  {
   "cell_type": "code",
   "execution_count": 9,
   "metadata": {},
   "outputs": [],
   "source": [
    "\n",
    "def CalibrateModel(params, theta, Bt,z ):\n",
    "    sig, alpha , beta, ro = params\n",
    "    error_sum = 0\n",
    "    for bp,t in Bt:\n",
    "        n_dt = int(t*d_steps)\n",
    "        dt = t /n_dt\n",
    "        rt = [ro]*n_dt\n",
    "        disc_fac = [1]*n_dt\n",
    "        temp_ZCB_price = [1]*N\n",
    "        for i in range(1,n_dt):\n",
    "            # Use Geometric Brownian Motion SDE for the rate\n",
    "            rt[i] = -rt[i-1] * np.exp((theta(alpha, beta, dt) - (sig**2)/2)*(dt) + sig * (dt)**0.5 * z[i-1])    #Simulate short rate for a very short time dt \n",
    "            disc_fac[i] = np.exp(rt[i]*-dt)                                                                     # Discount factor for the discretized time \n",
    "        \n",
    "        temp = np.array(disc_fac[1:])                                                                           # Convert into matrix\n",
    "        temp = temp.T                                                                                           # Take Transpose of the matrix\n",
    "         \n",
    "        temp_ZCB_price = [prod(temp[i]) for i in range(N)]                                                      # Take average of Bond Price from different simulations\n",
    "        # print(np.mean(temp_ZCB_price),bp)\n",
    "        error_sum = error_sum + (np.mean(temp_ZCB_price)-bp)**2                                                 # Error is the difference between calculated and actual price of ZCB\n",
    "\n",
    "    \n",
    "    return error_sum**0.5\n",
    "\n",
    "\n",
    "def GetBondPrice(params, theta, tenure ,z):\n",
    "    sig, alpha , beta, ro = params\n",
    "    # ro = 0.0035                                                                                               # Current overnight Fed Rate\n",
    "    # sig = 0.00390879                                                                                            # Variance of overnight Fed Rate\n",
    "    n_dt = int(tenure*d_steps)\n",
    "    dt = tenure /n_dt\n",
    "    rt = [ro]*n_dt\n",
    "    disc_fac = [1]*n_dt\n",
    "    temp_ZCB_price = [1]*N\n",
    "    for i in range(1,n_dt):\n",
    "        #Simulate short rate and multiply by current discount factor\n",
    "        rt[i] = -rt[i-1] * np.exp((theta(alpha, beta, dt) - (sig**2)/2)*(dt) + sig * (dt)**0.5 * z[i-1])    #Simulate short rate for a very short time dt \n",
    "        disc_fac[i] = np.exp(rt[i]*-dt)                                                                     # Discount factor for the discretized time \n",
    "    #multiply into temp discount variable\n",
    "    temp = np.array(disc_fac[1:])\n",
    "    temp = temp.T\n",
    "    temp_ZCB_price = [prod(temp[i]) for i in range(N)]\n",
    "\n",
    "    #take average of discount factor \n",
    "    return np.mean(temp_ZCB_price)\n"
   ]
  },
  {
   "cell_type": "markdown",
   "metadata": {},
   "source": [
    "### Calibrate Model"
   ]
  },
  {
   "cell_type": "code",
   "execution_count": 34,
   "metadata": {},
   "outputs": [],
   "source": [
    "x0 =  [0.39,0.2,0.5,0.0035] #initial guess\n",
    "res1 = scop.minimize(CalibrateModel,x0,args=(theta1,Bond_prices,x))"
   ]
  },
  {
   "cell_type": "markdown",
   "metadata": {},
   "source": [
    "### Bond Valuation"
   ]
  },
  {
   "cell_type": "code",
   "execution_count": 43,
   "metadata": {},
   "outputs": [
    {
     "name": "stdout",
     "output_type": "stream",
     "text": [
      "['Calculated Value:', 0.8323354431657881]\n",
      "['Actual Value:', 0.805987832269141]\n"
     ]
    }
   ],
   "source": [
    "#Valuation of Bond\n",
    "tenure = 7\n",
    "rnorm= generateRandomVars(tenure)\n",
    "params = res1.x\n",
    "rex = GetBondPrice(params,theta=theta1,tenure = tenure,z = rnorm)\n",
    "print(['Calculated Value:' ,rex ])\n",
    "print(['Actual Value:' ,Bond_prices[tenure-1][0]])"
   ]
  },
  {
   "cell_type": "code",
   "execution_count": 36,
   "metadata": {},
   "outputs": [
    {
     "data": {
      "text/plain": [
       "array([ 0.46633875,  0.30985707,  0.50549342, -1.03378023])"
      ]
     },
     "execution_count": 36,
     "metadata": {},
     "output_type": "execute_result"
    }
   ],
   "source": [
    "params"
   ]
  },
  {
   "cell_type": "code",
   "execution_count": 69,
   "metadata": {},
   "outputs": [
    {
     "data": {
      "image/png": "[encoded data removed]",
      "text/plain": [
       "<Figure size 576x396 with 1 Axes>"
      ]
     },
     "metadata": {},
     "output_type": "display_data"
    }
   ],
   "source": [
    "#Bond Valuation results and comparison\n",
    "act_bond_prices = []\n",
    "cal_bond_price = []\n",
    "params = res1.x\n",
    "for bp,i in Bond_prices:\n",
    "    act_bond_prices.append(bp)\n",
    "    rnorm= generateRandomVars(i)\n",
    "    cal_bond_price.append(GetBondPrice(params,theta=theta1,tenure = i,z = rnorm))\n",
    "\n",
    "plt.style.use('seaborn')\n",
    "# plt.figure(figsize=(12,8))\n",
    "plt.plot(range(1,10),act_bond_prices[:9],color = 'Blue')\n",
    "plt.plot(range(1,10),cal_bond_price[:9],color = 'red')\n",
    "plt.ylabel('Bond Prices')\n",
    "plt.xlabel('Tenure')\n",
    "plt.title('Actual v/s Calculated ZCB prices ')\n",
    "plt.legend([\"Actual\",\"Calculated\"])\n",
    "plt.show()\n"
   ]
  },
  {
   "cell_type": "markdown",
   "metadata": {},
   "source": [
    "## Swaption Valuation"
   ]
  },
  {
   "cell_type": "code",
   "execution_count": 51,
   "metadata": {},
   "outputs": [],
   "source": [
    "# Terms of the Swaptions\n",
    "Option_term = 2                 # Years for which option is valid for \n",
    "Swap_term = 4                   # Total term of the swap (swap starts after option is exercised)\n",
    "Swap_rate = 0.04                # Swap rate for Fixed leg\n",
    "Notional = 100000               # Notional underlying the swap    \n",
    "random_variables = generateRandomVars(10)\n",
    "# params = res1.x                 # Calibrated model paramters\n",
    "params = [ 0.38158359,  0.26257618,  0.50312882, -1.10274937]\n",
    "payment_freq = 0.5 "
   ]
  },
  {
   "cell_type": "code",
   "execution_count": 40,
   "metadata": {},
   "outputs": [],
   "source": [
    "def getSwaptionValue(op_term, sw_term , sw_rate, Ntn , params, z, theta):\n",
    "    sig, alpha , beta, ro = params                                                                          # Unpack calibrated parameters \n",
    "    n_dt = int((sw_term+op_term)*d_steps)                                                                   # No of discrete time steps with the given terms\n",
    "    payment_terms = np.arange(Option_term,Swap_term+0.5,payment_freq)*d_steps                               # Payment times for the swaps\n",
    "    dt = sw_term /n_dt                                                                                      # length of each discrete time\n",
    "    rt = [ro]*n_dt                                                                                          # initialize short rate list\n",
    "    disc_fac = [1]*n_dt                                                                                     # initialize discount factor list\n",
    "    temp_disc_rate = []                                                                                     # initialize temperory varriable\n",
    "    \n",
    "    #Initilize important lists for bond prices used in swaption pricing formula\n",
    "    P_0_To = []\n",
    "    P_0_Tn = []\n",
    "    Sum_P_To_Ti = [1]*N\n",
    "\n",
    "    # Loop over all discrete times \n",
    "\n",
    "    for i in range(1,n_dt):\n",
    "        #Simulate short rate and Calculate discount facotrs/ZCB prices\n",
    "        rt[i] = -rt[i-1] * np.exp((theta(alpha, beta, dt) - (sig**2)/2)*(dt) + sig * (dt)**0.5 * z[i-1])    #Simulate short rate for a very short time dt \n",
    "        disc_fac[i] = np.exp(rt[i]*-dt)                                                                     # Discount factor for the discretized time \n",
    "\n",
    "        # When we reach term of option, save the bond price to be used later\n",
    "        if i == (op_term *d_steps):\n",
    "            # ZCB Bond price of tenure = op_term To\n",
    "            temp = np.array(disc_fac[1:i],dtype=object)\n",
    "            temp = temp.T                                                                                   # Convert the [time X simulation] array to [Simulation X Time]\n",
    "            P_0_To = [prod(temp[j]) for j in range(N)]                                                      # Take product of discount factors in each simulation\n",
    "\n",
    "        # When we reach term of swap payment/end, save the bond price to be used later\n",
    "        if i in payment_terms:\n",
    "            # add the discount facotrs for each payment term \n",
    "            temp = np.array(disc_fac[1:i],dtype=object)\n",
    "            temp = temp.T                                                                                   # Convert the [time X simulation] array to [Simulation X Time]\n",
    "            temp_disc_rate = [prod(temp[j]) for j in range(N)]                                              # Take product of discount factors in each simulation\n",
    "            Sum_P_To_Ti = [Sum_P_To_Ti[j] + temp_disc_rate[j] for j in range(N)]                            # Sum the products of all payments  \n",
    "            if i == payment_terms[-1]:\n",
    "                P_0_Tn = temp_disc_rate\n",
    "    \n",
    "    payoff = [max(Ntn*(1 - (P_0_Tn[i]/P_0_To[i]) - (sw_rate * payment_freq * Sum_P_To_Ti[i])),0) for i in range(N)]     # swaption Formula \n",
    "    Swaption_price = np.mean([payoff[i]*P_0_To[i] for i in range(N)])                                                   # Take average of payoff and discount back to time 0\n",
    "\n",
    "    #take average of discount factor \n",
    "    return Swaption_price\n"
   ]
  },
  {
   "cell_type": "code",
   "execution_count": 49,
   "metadata": {},
   "outputs": [
    {
     "name": "stdout",
     "output_type": "stream",
     "text": [
      "Swaption Price: $ 89.15268567708245\n"
     ]
    }
   ],
   "source": [
    "t = getSwaptionValue(Option_term,Swap_term,Swap_rate,Notional,params,random_variables,theta1)\n",
    "print(\"Swaption Price: $\",t)"
   ]
  },
  {
   "cell_type": "code",
   "execution_count": 57,
   "metadata": {},
   "outputs": [
    {
     "data": {
      "text/plain": [
       "[409.0065380563941,\n",
       " 363.8761837991769,\n",
       " 324.1722846147858,\n",
       " 289.30512602838735,\n",
       " 258.6367188391845,\n",
       " 231.63988298706118,\n",
       " 207.82550886309986,\n",
       " 186.79773479598435,\n",
       " 168.10969946100698,\n",
       " 151.5157593291856,\n",
       " 136.7143073242795,\n",
       " 123.59371675467995,\n",
       " 111.81106507886311,\n",
       " 101.2505189490387,\n",
       " 91.81738429384811,\n",
       " 83.33768589242177,\n",
       " 75.74932911213433,\n",
       " 68.908257490442,\n",
       " 62.74500423870679,\n",
       " 57.2182252861795,\n",
       " 52.215750213999634,\n",
       " 47.680629775706755,\n",
       " 43.577406937684266,\n",
       " 39.82752093592842,\n",
       " 36.41873926074565,\n",
       " 33.31276170932679,\n",
       " 30.50887462543112,\n",
       " 27.94798673983307,\n",
       " 25.58640655679794,\n",
       " 23.429462254756327,\n",
       " 21.469372389443354,\n",
       " 19.697132517446686,\n",
       " 18.07504270771951,\n",
       " 16.5872282396092,\n",
       " 15.225657784635795,\n",
       " 13.976198227075038,\n",
       " 12.843308851095223,\n",
       " 11.82700271720508,\n",
       " 10.906522978345624,\n",
       " 10.065130598722918]"
      ]
     },
     "execution_count": 57,
     "metadata": {},
     "output_type": "execute_result"
    }
   ],
   "source": [
    "#Swaption price for different swap rates\n",
    "value = []\n",
    "for swap_r in np.arange(0.01,0.05,0.001):\n",
    "    value.append(getSwaptionValue(Option_term,Swap_term,swap_r,Notional,params,random_variables,theta1))\n",
    "value"
   ]
  },
  {
   "cell_type": "code",
   "execution_count": 60,
   "metadata": {},
   "outputs": [
    {
     "data": {
      "image/png": "[encoded data removed]",
      "text/plain": [
       "<Figure size 576x396 with 1 Axes>"
      ]
     },
     "metadata": {},
     "output_type": "display_data"
    }
   ],
   "source": [
    "plt.style.use('seaborn')\n",
    "# plt.figure(figsize=(12,8))\n",
    "plt.plot(np.arange(0.01,0.05,0.001),value)\n",
    "plt.ylabel('Swaption Values')\n",
    "plt.xlabel('Swap Rates')\n",
    "plt.title('Effect of Swap Rates/ Stike Rates on Swaption Prices')\n",
    "plt.show()"
   ]
  }
 ],
 "metadata": {
  "interpreter": {
   "hash": "08abd7b7c8d0be127d4e4a7867fced7f62c6dcfa7739a0184e3b4f48aa7caea7"
  },
  "kernelspec": {
   "display_name": "Python 3.9.10 64-bit (windows store)",
   "language": "python",
   "name": "python3"
  },
  "language_info": {
   "codemirror_mode": {
    "name": "ipython",
    "version": 3
   },
   "file_extension": ".py",
   "mimetype": "text/x-python",
   "name": "python",
   "nbconvert_exporter": "python",
   "pygments_lexer": "ipython3",
   "version": "3.9.12"
  },
  "orig_nbformat": 4
 },
 "nbformat": 4,
 "nbformat_minor": 2
}
