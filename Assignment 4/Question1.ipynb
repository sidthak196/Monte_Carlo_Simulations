{
 "cells": [
  {
   "cell_type": "markdown",
   "metadata": {},
   "source": [
    "# Question 1 - Credit Default Swap (Fifth to default)"
   ]
  },
  {
   "cell_type": "code",
   "execution_count": 178,
   "metadata": {},
   "outputs": [],
   "source": [
    "import numpy as np\n",
    "import matplotlib.pyplot as plt\n",
    "import statsmodels.api as sm\n",
    "import pandas as pd\n",
    "import scipy.linalg as lag\n",
    "import scipy.stats as sc_stat\n",
    "import scipy as sc"
   ]
  },
  {
   "cell_type": "markdown",
   "metadata": {},
   "source": [
    "## Initialize Variables "
   ]
  },
  {
   "cell_type": "code",
   "execution_count": 179,
   "metadata": {},
   "outputs": [],
   "source": [
    "N_asset = 10                                                            #Number of assets\n",
    "r = 0.04                                                                #Risk free rate\n",
    "T = 5                                                                   #time\n",
    "rho = 0.8                                                               #Cross Correlation \n",
    "def_Int = [0.05, 0.01, 0.05, 0.05,0.01, 0.1, 0.01, 0.09, 0.1, 0.02]     #Default Intensities\n",
    "rec_rate = [0.1, 0.1, 0.3, 0.1, 0.3, 0.1, 0.2, 0.2, 0.1, 0.1]           #Recovery rate\n",
    "def_asset_threshold = 5                                                 # Number of assets to default for CDS payout\n",
    "N =20000#00                                                              #Simulations"
   ]
  },
  {
   "cell_type": "markdown",
   "metadata": {},
   "source": [
    "## Main Code Block \n",
    "\n",
    "### Generate Random Variables and default Times"
   ]
  },
  {
   "cell_type": "code",
   "execution_count": 180,
   "metadata": {},
   "outputs": [],
   "source": [
    "#Generate correlated Uniform RVs : Generated only once since Solver to be used\n",
    "\n",
    "Corr_mat = [[rho]*N_asset for i in range(N_asset)]                                          #Generate Correlation matrix\n",
    "for i in range(N_asset):\n",
    "    Corr_mat[i][i] = 1\n",
    "\n",
    "A = lag.cholesky(Corr_mat,lower=True)                                                       #Cholsky Decomposition to find A\n",
    "Z = [np.random.normal(0,1,N) for i in range(N_asset)]                                       #Generate independen    t normal \n",
    "X = np.matmul(A,Z)                                                                          #Get Correlated Multivariate Normal\n",
    "\n",
    "#Get Correlated Uniform Random Variables\n",
    "Corr_U = [[sc_stat.norm.cdf(X[i,j]) for j in range(N)] for i in range(N_asset)]\n",
    "\n",
    "#Assuming an exponential model for default intensities and usign the CDF for that to inverse the uniform random variables.\n",
    "def_times = np.array([[sc_stat.expon.ppf(Corr_U[i][j],scale = 1/def_Int[i]) for j in range(N)] for i in range(N_asset)])\n",
    "N_def_before_T = [sum([1 if i < T else 0 for i in def_times[:,j]]) for j in range(N)]       #Number of defaults before Time T\n",
    "Exer_time = np.array([sorted([i if i < T else 0 for i in def_times[:,j]]) for j in range(N)])         #exercise time "
   ]
  },
  {
   "cell_type": "markdown",
   "metadata": {},
   "source": [
    "### Function to caclulate swap value for given S"
   ]
  },
  {
   "cell_type": "code",
   "execution_count": 181,
   "metadata": {},
   "outputs": [],
   "source": [
    "#create function to calculate the value of the Swap\n",
    "def get_swap_value(s):\n",
    "    s=s/10000\n",
    "    V_value = [0]*N                                                                         #Initilize Arrays\n",
    "    V_prot = [0]*N\n",
    "    Value = [0]*N\n",
    "    for j in range(N):                                                                      #Loop through each scenario\n",
    "        \n",
    "        if N_def_before_T[j]<5:                                                             #If no. of defaults are below 5 then no exercise    \n",
    "            #No exercise \n",
    "            V_value[j] = 0\n",
    "            V_prot[j] = sum((N_asset * s * np.exp(-r*i) for i in range(T)))\n",
    "        else:\n",
    "            #Excerise\n",
    "            tau = Exer_time[j,T - N_def_before_T[j]-1]                                      #Calculate the 5th default time before time T \n",
    "            firm_index = list(def_times[:,j]).index(tau)                                    #Find the firm that defaulted\n",
    "            V_value[j] = (1- rec_rate[firm_index])*np.exp(-r*tau)                           \n",
    "            whole_tau = np.floor(tau)\n",
    "            V_prot[j] =sum((N_asset * s * np.exp(-r*i) for i in range(int(whole_tau)))) + (N_asset * s * np.exp(-r*whole_tau)*(tau-whole_tau))\n",
    "        \n",
    "        Value[j] = V_value[j] - V_prot[j]\n",
    "    return np.mean(Value)"
   ]
  },
  {
   "cell_type": "markdown",
   "metadata": {},
   "source": [
    "### Find the root of the function"
   ]
  },
  {
   "cell_type": "code",
   "execution_count": 216,
   "metadata": {},
   "outputs": [
    {
     "name": "stdout",
     "output_type": "stream",
     "text": [
      "32.395897285286296 bps\n"
     ]
    }
   ],
   "source": [
    "rt = sc.optimize.root(get_swap_value,0)\n",
    "print(rt.x[0],\"bps\")"
   ]
  }
 ],
 "metadata": {
  "interpreter": {
   "hash": "08abd7b7c8d0be127d4e4a7867fced7f62c6dcfa7739a0184e3b4f48aa7caea7"
  },
  "kernelspec": {
   "display_name": "Python 3.9.12 64-bit (windows store)",
   "language": "python",
   "name": "python3"
  },
  "language_info": {
   "codemirror_mode": {
    "name": "ipython",
    "version": 3
   },
   "file_extension": ".py",
   "mimetype": "text/x-python",
   "name": "python",
   "nbconvert_exporter": "python",
   "pygments_lexer": "ipython3",
   "version": "3.9.12"
  },
  "orig_nbformat": 4
 },
 "nbformat": 4,
 "nbformat_minor": 2
}
