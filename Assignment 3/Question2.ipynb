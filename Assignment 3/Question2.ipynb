{
 "cells": [
  {
   "cell_type": "markdown",
   "metadata": {},
   "source": [
    "# Question 2 - VaR Calculations (Linear and Quadratic Approximations)"
   ]
  },
  {
   "cell_type": "code",
   "execution_count": 1,
   "metadata": {},
   "outputs": [],
   "source": [
    "import numpy as np\n",
    "import matplotlib.pyplot as plt\n",
    "import scipy.stats as st"
   ]
  },
  {
   "cell_type": "markdown",
   "metadata": {},
   "source": [
    "## Initialize Variables"
   ]
  },
  {
   "cell_type": "code",
   "execution_count": 11,
   "metadata": {},
   "outputs": [],
   "source": [
    "#Call option\n",
    "So1= 50         #Intial Value for stock 1\n",
    "K1 = 51         #Strike Price \n",
    "sig1 = 0.28     #Volatility \n",
    "T1 = 9/12       #Time to Maturity\n",
    "\n",
    "#Put Option\n",
    "So2= 20         #Intial Value for stock 1\n",
    "K2 = 19         #Strike Price \n",
    "sig2 = 0.25     #Volatility \n",
    "T2 = 1          #Time to Maturity \n",
    "\n",
    "r = 0.06        #Risk free rate\n",
    "rho = 0.4       #Correlation\n",
    "N =1000#00       #Simulations \n"
   ]
  },
  {
   "cell_type": "markdown",
   "metadata": {},
   "source": [
    "## Main Code Block "
   ]
  },
  {
   "cell_type": "markdown",
   "metadata": {},
   "source": [
    "### Part a - Linear Approximation(Delta Approach) "
   ]
  },
  {
   "cell_type": "code",
   "execution_count": 21,
   "metadata": {},
   "outputs": [
    {
     "name": "stdout",
     "output_type": "stream",
     "text": [
      "99% 10 day VaR for portfolio =  -3.7665144652770692\n"
     ]
    }
   ],
   "source": [
    "#Delta for call\n",
    "d11 = (np.log(So1/K1) + (r+sig1**2/2)*T1)/(sig1*T1**0.5) \n",
    "deltac = st.norm.cdf(d11)\n",
    "\n",
    "#Delta for put\n",
    "d12 = (np.log(So2/K2) + (r+sig2**2/2)*T2)/(sig2*T2**0.5) \n",
    "deltap = st.norm.cdf(d12)-1\n",
    "\n",
    "#Random variable generation\n",
    "z1 = np.random.normal(0,1,N)\n",
    "z2 = rho * z1 + (1-rho**2)**0.5 * np.random.normal(0,1,N)\n",
    "\n",
    "#Changes in stock prices\n",
    "delS1 = So1 * sig1 * z1 / (252**0.5)\n",
    "delS2 = So2 * sig2 * z2 / (252**0.5)\n",
    "\n",
    "#Changes in Portfolio \n",
    "delV = delS1*deltac + delS2*deltap\n",
    "\n",
    "print(\"99% 10 day VaR for portfolio = \",np.quantile(delV,0.01)*(10**0.5))"
   ]
  },
  {
   "cell_type": "markdown",
   "metadata": {},
   "source": [
    "### Part b - Quadratic Approximation (Delta Gamma Approach)"
   ]
  },
  {
   "cell_type": "code",
   "execution_count": 22,
   "metadata": {},
   "outputs": [],
   "source": [
    "#Delta and Gamma for call\n",
    "d11 = (np.log(So1/K1) + (r+sig1**2/2)*T1)/(sig1*T1**0.5) \n",
    "deltac = st.norm.cdf(d11)\n",
    "Gammac = st.norm.pdf(d11)/(So1*sig1*(T1**0.5))\n",
    "\n",
    "#Delta and Gamma for put\n",
    "d12 = (np.log(So2/K2) + (r+sig2**2/2)*T2)/(sig2*T2**0.5) \n",
    "deltap = st.norm.cdf(d12)-1\n",
    "Gammac = st.norm.pdf(d12)/(So1*sig2*(T2**0.5))\n",
    "\n"
   ]
  }
 ],
 "metadata": {
  "interpreter": {
   "hash": "08abd7b7c8d0be127d4e4a7867fced7f62c6dcfa7739a0184e3b4f48aa7caea7"
  },
  "kernelspec": {
   "display_name": "Python 3.9.10 64-bit (windows store)",
   "language": "python",
   "name": "python3"
  },
  "language_info": {
   "codemirror_mode": {
    "name": "ipython",
    "version": 3
   },
   "file_extension": ".py",
   "mimetype": "text/x-python",
   "name": "python",
   "nbconvert_exporter": "python",
   "pygments_lexer": "ipython3",
   "version": "3.9.12"
  },
  "orig_nbformat": 4
 },
 "nbformat": 4,
 "nbformat_minor": 2
}
