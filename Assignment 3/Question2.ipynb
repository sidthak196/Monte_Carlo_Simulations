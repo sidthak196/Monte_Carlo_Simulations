{
 "cells": [
  {
   "cell_type": "markdown",
   "metadata": {},
   "source": [
    "# Question 2 - VaR Calculations (Linear and Quadratic Approximations)"
   ]
  },
  {
   "cell_type": "code",
   "execution_count": 1,
   "metadata": {},
   "outputs": [],
   "source": [
    "import numpy as np\n",
    "import matplotlib.pyplot as plt\n",
    "import scipy.stats as st"
   ]
  },
  {
   "cell_type": "markdown",
   "metadata": {},
   "source": [
    "## Initialize Variables"
   ]
  },
  {
   "cell_type": "code",
   "execution_count": 40,
   "metadata": {},
   "outputs": [],
   "source": [
    "#Call option\n",
    "So1= 50         #Intial Value for stock 1\n",
    "K1 = 51         #Strike Price \n",
    "sig1 = 0.28     #Volatility \n",
    "T1 = 9/12       #Time to Maturity\n",
    "\n",
    "#Put Option\n",
    "So2= 20         #Intial Value for stock 1\n",
    "K2 = 19         #Strike Price \n",
    "sig2 = 0.25     #Volatility \n",
    "T2 = 1          #Time to Maturity \n",
    "\n",
    "r = 0.06        #Risk free rate\n",
    "rho = 0.4       #Correlation\n",
    "N =10000000     #Simulations \n"
   ]
  },
  {
   "cell_type": "markdown",
   "metadata": {},
   "source": [
    "## Main Code Block "
   ]
  },
  {
   "cell_type": "markdown",
   "metadata": {},
   "source": [
    "### Part a - Linear Approximation(Delta Approach) "
   ]
  },
  {
   "cell_type": "code",
   "execution_count": 46,
   "metadata": {},
   "outputs": [
    {
     "name": "stdout",
     "output_type": "stream",
     "text": [
      "99% 10 day VaR for portfolio =  3.6086919398436743\n"
     ]
    }
   ],
   "source": [
    "#Delta for call\n",
    "d11 = (np.log(So1/K1) + (r+sig1**2/2)*T1)/(sig1*T1**0.5) \n",
    "deltac = st.norm.cdf(d11)\n",
    "\n",
    "#Delta for put\n",
    "d12 = (np.log(So2/K2) + (r+sig2**2/2)*T2)/(sig2*T2**0.5) \n",
    "deltap = st.norm.cdf(d12)-1\n",
    "\n",
    "#Random variable generation\n",
    "z1 = np.random.normal(0,1,N)\n",
    "z2 = rho * z1 + (1-rho**2)**0.5 * np.random.normal(0,1,N)\n",
    "\n",
    "#Changes in stock prices\n",
    "delS1 = So1 * sig1 * z1 / (252**0.5)\n",
    "delS2 = So2 * sig2 * z2 / (252**0.5)\n",
    "\n",
    "#Changes in Portfolio \n",
    "delV = delS1*deltac + delS2*deltap\n",
    "\n",
    "print(\"99% 10 day VaR for portfolio = \",-np.quantile(delV,0.01)*(10**0.5))"
   ]
  },
  {
   "cell_type": "markdown",
   "metadata": {},
   "source": [
    "### Part b - Quadratic Approximation (Delta Gamma Approach)"
   ]
  },
  {
   "cell_type": "code",
   "execution_count": 47,
   "metadata": {},
   "outputs": [
    {
     "name": "stdout",
     "output_type": "stream",
     "text": [
      "99% 10 day VaR for portfolio =  3.388476725716707\n"
     ]
    }
   ],
   "source": [
    "#Delta and Gamma for call\n",
    "d11 = (np.log(So1/K1) + (r+sig1**2/2)*T1)/(sig1*T1**0.5) \n",
    "deltac = st.norm.cdf(d11)\n",
    "Gammac = st.norm.pdf(d11)/(So1*sig1*(T1**0.5))\n",
    "\n",
    "#Delta and Gamma for put\n",
    "d12 = (np.log(So2/K2) + (r+sig2**2/2)*T2)/(sig2*T2**0.5) \n",
    "deltap = st.norm.cdf(d12)-1\n",
    "Gammap = st.norm.pdf(d12)/(So2*sig2*(T2**0.5))\n",
    "\n",
    "#Random variable generation\n",
    "z1 = np.random.normal(0,1,N)\n",
    "z2 = rho * z1 + (1-rho**2)**0.5 * np.random.normal(0,1,N)\n",
    "\n",
    "#Changes in stock prices\n",
    "delS1 = So1 * sig1 * z1 / (252**0.5)\n",
    "delS2 = So2 * sig2 * z2 / (252**0.5)\n",
    "\n",
    "#Changes in Portfolio \n",
    "delV = delS1*deltac + delS2*deltap + 0.5 * (Gammac * delS1**2 + Gammap * delS2**2)\n",
    "\n",
    "print(\"99% 10 day VaR for portfolio = \",-np.quantile(delV,0.01)*(10**0.5))"
   ]
  },
  {
   "cell_type": "markdown",
   "metadata": {},
   "source": [
    "### Part c - Full Simulation"
   ]
  },
  {
   "cell_type": "code",
   "execution_count": 48,
   "metadata": {},
   "outputs": [
    {
     "name": "stdout",
     "output_type": "stream",
     "text": [
      "99% 10 day VaR for portfolio =  3.313488410600105\n"
     ]
    }
   ],
   "source": [
    "#Delta and Gamma for call\n",
    "d1 = lambda X,sig,k,t: (np.log(X/k) + (r+sig**2/2)*t)/(sig*t**0.5) \n",
    "\n",
    "#initial Value of Call and put \n",
    "C0 = So1 * st.norm.cdf(d1(So1,sig1,K1,T1)) - (K1*np.exp(-r*T1)*st.norm.cdf(d1(So1,sig1,K1,T1)-(sig1*T1**0.5)))\n",
    "P0 = -So2 * st.norm.cdf(-d1(So2,sig2,K2,T2)) + (K2*np.exp(-r*T2)*st.norm.cdf(-d1(So2,sig2,K2,T2)+(sig2*T2**0.5)))\n",
    "Vo = C0+P0\n",
    "\n",
    "#Simulate N values for Stock price \n",
    "#Random variable generation\n",
    "z1 = np.random.normal(0,1,N)\n",
    "z2 = rho * z1 + (1-rho**2)**0.5 * np.random.normal(0,1,N)\n",
    "\n",
    "h = 1/252\n",
    "S1 = So1 * np.exp((r - (sig1**2)/2)*h + sig1 * h**0.5 * z1)\n",
    "S2 = So2 * np.exp((r - (sig2**2)/2)*h + sig2 * h**0.5 * z2)\n",
    "\n",
    "#New Call and Put Prices\n",
    "C1 = S1 * st.norm.cdf(d1(S1,sig1,K1,T1)) - (K1*np.exp(-r*T1)*st.norm.cdf(d1(S1,sig1,K1,T1)-(sig1*T1**0.5)))\n",
    "P1 = -S2 * st.norm.cdf(-d1(S2,sig2,K2,T2)) + (K2*np.exp(-r*T2)*st.norm.cdf(-d1(S2,sig2,K2,T2)+(sig2*T2**0.5)))\n",
    "V1 = C1+P1\n",
    "\n",
    "delV = V1 - Vo\n",
    "print(\"99% 10 day VaR for portfolio = \",-np.quantile(delV,0.01)*(10**0.5))"
   ]
  }
 ],
 "metadata": {
  "interpreter": {
   "hash": "08abd7b7c8d0be127d4e4a7867fced7f62c6dcfa7739a0184e3b4f48aa7caea7"
  },
  "kernelspec": {
   "display_name": "Python 3.9.10 64-bit (windows store)",
   "language": "python",
   "name": "python3"
  },
  "language_info": {
   "codemirror_mode": {
    "name": "ipython",
    "version": 3
   },
   "file_extension": ".py",
   "mimetype": "text/x-python",
   "name": "python",
   "nbconvert_exporter": "python",
   "pygments_lexer": "ipython3",
   "version": "3.9.12"
  },
  "orig_nbformat": 4
 },
 "nbformat": 4,
 "nbformat_minor": 2
}
