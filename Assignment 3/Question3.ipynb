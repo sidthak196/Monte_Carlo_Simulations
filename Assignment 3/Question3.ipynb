{
 "cells": [
  {
   "cell_type": "markdown",
   "metadata": {},
   "source": [
    "## Question 3 - Probability of default"
   ]
  },
  {
   "cell_type": "code",
   "execution_count": 3,
   "metadata": {},
   "outputs": [],
   "source": [
    "import numpy as np\n",
    "import matplotlib.pyplot as plt\n",
    "import statsmodels.api as sm\n",
    "import pandas as pd"
   ]
  },
  {
   "cell_type": "markdown",
   "metadata": {},
   "source": [
    "## Initialize Variables"
   ]
  },
  {
   "cell_type": "code",
   "execution_count": 4,
   "metadata": {},
   "outputs": [],
   "source": [
    "Vo= 100         #Intial Value for stock 1\n",
    "B=70            #Default Boundary \n",
    "T = 5           #time\n",
    "sig = 0.4       #Volatility \n",
    "mu = 0.03       #Drift\n",
    "m = 500         #Discretization steps - assuming Daily steps \n",
    "N =100000       #Simulations \n",
    "h=T/m           #Time step width"
   ]
  },
  {
   "cell_type": "markdown",
   "metadata": {},
   "source": [
    "## Main Code Block "
   ]
  },
  {
   "cell_type": "code",
   "execution_count": 5,
   "metadata": {},
   "outputs": [
    {
     "name": "stdout",
     "output_type": "stream",
     "text": [
      "Probability of Default :  0.76491\n"
     ]
    }
   ],
   "source": [
    "#Initialize Array of intial Asset value\n",
    "Vt = [[Vo]*N]\n",
    "Mi = []\n",
    "\n",
    "for i in range(1,m):\n",
    "\n",
    "    #Generating Asset Value using closed form solution of geometric brownian motion - for each time\n",
    "    z1 = np.random.normal(0,1,N)\n",
    "    Vt.append(Vt[i-1] * np.exp((mu - (sig**2)/2)*(h) + sig* h**0.5 * z1))\n",
    "\n",
    "    mult_temp = [Vt[i-1][k]*Vt[i][k] for k in range(0,N)]\n",
    "    div_temp = [Vt[i][k]/Vt[i-1][k] for k in range(0,N)]\n",
    "    u = np.random.uniform(0,1,N)\n",
    "    Mi.append(list(  np.exp(0.5*(np.log(mult_temp) - ((np.log(div_temp)**2)- (2 * sig**2 *h * np.log(u)))**0.5))  ))\n",
    "\n",
    "Min_Vt = np.min(Mi,axis = 0)\n",
    "Ind_Tao_less_than_T = [1 for i in Min_Vt if i<=B ]\n",
    "\n",
    "Prob_def = sum(Ind_Tao_less_than_T)/N\n",
    "print(\"Probability of Default : \", Prob_def)\n"
   ]
  }
 ],
 "metadata": {
  "interpreter": {
   "hash": "08abd7b7c8d0be127d4e4a7867fced7f62c6dcfa7739a0184e3b4f48aa7caea7"
  },
  "kernelspec": {
   "display_name": "Python 3.9.10 64-bit (windows store)",
   "language": "python",
   "name": "python3"
  },
  "language_info": {
   "codemirror_mode": {
    "name": "ipython",
    "version": 3
   },
   "file_extension": ".py",
   "mimetype": "text/x-python",
   "name": "python",
   "nbconvert_exporter": "python",
   "pygments_lexer": "ipython3",
   "version": "3.9.12"
  },
  "orig_nbformat": 4
 },
 "nbformat": 4,
 "nbformat_minor": 2
}
