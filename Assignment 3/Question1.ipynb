{
 "cells": [
  {
   "cell_type": "code",
   "execution_count": 52,
   "metadata": {},
   "outputs": [],
   "source": [
    "import numpy as np\n",
    "import matplotlib.pyplot as plt\n",
    "import statsmodels.api as sm\n",
    "import pandas as pd"
   ]
  },
  {
   "cell_type": "code",
   "execution_count": 158,
   "metadata": {},
   "outputs": [],
   "source": [
    "S1o= 100        #Intial Value for stock 1\n",
    "S2o= 100        #Intial Value for stock 2\n",
    "S3o= 100        #Intial Value for stock 3\n",
    "K=100           #Strike \n",
    "r = 0.05        #Risk free rate\n",
    "T = 1           #time\n",
    "sig = 0.3       #Volatility \n",
    "rho = 0.2       #Cross Correlation \n",
    "div = 0.02      #Dividends\n",
    "N =10000    #Simulations "
   ]
  },
  {
   "cell_type": "code",
   "execution_count": 182,
   "metadata": {},
   "outputs": [
    {
     "name": "stdout",
     "output_type": "stream",
     "text": [
      "Price of European Basket Option = 21.566500606109955\n",
      "Variance of price of European Basket Option = 1089.8558914035555\n"
     ]
    }
   ],
   "source": [
    "#Part a\n",
    "\n",
    "#Generate Normal Random Variables using Cholsky decomposition\n",
    "z1 = np.random.normal(0,1,N)\n",
    "z2 = z1*rho + (1 - rho**2)**0.5 * np.random.normal(0,1,N)\n",
    "z3 = rho*z1 + (1 - rho**2)**-0.5 *(rho - rho**2)*z2 + ((1 - rho**2 - ((rho - rho**2)**2)/(1-rho**2))**0.5)*np.random.normal(0,1,N)\n",
    "\n",
    "#Generate Stock prices and calculate Payoff \n",
    "S1 = S1o * np.exp((r - div - (sig**2)/2)*T + sig * z1)\n",
    "S2 = S2o * np.exp((r - div - (sig**2)/2)*T + sig * z2)\n",
    "S3 = S3o * np.exp((r - div - (sig**2)/2)*T + sig * z3)\n",
    "\n",
    "Payoff = [max(S1[i] +S2[i] - S3[i] - K,0) for i in range(0,N)]\n",
    "\n",
    "print('Price of European Basket Option =', np.mean(Payoff))\n",
    "print('Variance of price of European Basket Option =', np.var(Payoff))"
   ]
  },
  {
   "cell_type": "code",
   "execution_count": 234,
   "metadata": {},
   "outputs": [],
   "source": [
    "m = 12 # No of Discretisation Steps\n",
    "\n",
    "#intialize Stock prices \n",
    "St1 = [[S1o]*N]\n",
    "St2 = [[S2o]*N]\n",
    "St3 = [[S3o]*N]\n",
    "Payoff = [[0]*N]\n",
    "\n",
    "#Debug variables\n",
    "Z1_Debug = []\n",
    "Z2_Debug = []\n",
    "Z3_Debug = []\n",
    "Cont_Val_Debug = []\n",
    "\n",
    "# loop through all time steps to generate stock prices \n",
    "for i in range(1,m+1):\n",
    "    #Generate correlated normal r.v.\n",
    "    z1 = np.random.normal(0,1,N)\n",
    "    z2 = z1*rho + (1 - rho**2)**0.5 * np.random.normal(0,1,N)\n",
    "    z3 = rho*z1 + (1 - rho**2)**-0.5 *(rho - rho**2)*z2 + ((1 - rho**2 - ((rho - rho**2)**2)/(1-rho**2))**0.5)*np.random.normal(0,1,N)\n",
    "\n",
    "    Z1_Debug.append(z1)\n",
    "    Z2_Debug.append(z2)\n",
    "    Z3_Debug.append(z3)\n",
    "\n",
    "    # Generate Stock prices \n",
    "    St1.append(St1[0] * np.exp((r - div - sig**2/2)*(i*T/m) + sig * z1))\n",
    "    St2.append(St2[0] * np.exp((r - div - sig**2/2)*(i*T/m) + sig * z2))\n",
    "    St3.append(St3[0] * np.exp((r - div - sig**2/2)*(i*T/m) + sig * z3))\n",
    "\n",
    "    #Generate Option Prices\n",
    "    Payoff.append(list([max(St1[i][k] +St2[i][k] - St3[i][k] - K,0) for k in range(0,N)]))\n",
    "\n",
    "\n",
    "#initialize Beta\n",
    "no_of_basis_func = 6\n",
    "beta = []\n",
    "\n",
    "# Set basis function of Stock prices \n",
    "Bas1 = [[s**2 for s in t] for t in St1]\n",
    "Bas2 = [[s**2 for s in t] for t in St2]\n",
    "Bas3 = [[s**2 for s in t] for t in St3]\n",
    "Bas4 = St1\n",
    "Bas5 = St2\n",
    "Bas6 = St3\n",
    "\n",
    "#payoff function at each time\n",
    "ht =np.reshape( [ max(St1[i][j] + St2[i][j] - St3[i][j] - K,0) for i in range(0,m+1) for j in range(0,N)] , (m+1,N))\n",
    "Vt = [ht[m]]\n",
    "\n",
    "for i in range(m,0,-1):\n",
    "    #Run regression on payoff and basis functions with lag 1 to get Beta values\n",
    "    X = pd.DataFrame(list(zip(Bas1[i],Bas2[i],Bas3[i],Bas4[i],Bas5[i],Bas6[i])))\n",
    "    Y = np.reshape(Vt[m-i],(N,1))\n",
    "    model = sm.OLS(Y,X).fit()\n",
    "    \n",
    "    #beta indexes are reversed here\n",
    "    beta.append(list(model.params))\n",
    "\n",
    "    #approximation of continuation value ; index will be reversed ; dimension is number of simulations \n",
    "    Cont_value = [np.exp(-r*T/m)*np.dot(beta[m-i],[Bas1[i][k],Bas2[i][k],Bas3[i][k],Bas4[i][k],Bas5[i][k],Bas6[i][k]]) for k in range(0,N)]\n",
    "\n",
    "    #Debug\n",
    "    Cont_Val_Debug.append(Cont_value)\n",
    "    Cont_Val_Debug.append(Vt[m-i])\n",
    "\n",
    "    #Assign the max of approx continuation value and payoff at that time\n",
    "    temp = [max(Cont_value[k],ht[i][k]) for k in range(0,N)]\n",
    "    #Assign the max of actual value and payoff at that time\n",
    "    # temp = [max((np.exp(-r*T/m)*Vt[m-i][k]),ht[i][k]) for k in range(0,N)]\n",
    "\n",
    "    # print(temp)\n",
    "    Vt.append(temp)\n",
    "\n",
    "# print(Vt)\n",
    "#TODO\n"
   ]
  },
  {
   "cell_type": "code",
   "execution_count": 228,
   "metadata": {},
   "outputs": [
    {
     "name": "stdout",
     "output_type": "stream",
     "text": [
      "77.03847497058932\n",
      "184.62242490716415\n"
     ]
    }
   ],
   "source": [
    "print(np.mean(Vt[12]))\n",
    "print(np.var(Vt[12]))"
   ]
  },
  {
   "cell_type": "code",
   "execution_count": 229,
   "metadata": {},
   "outputs": [
    {
     "data": {
      "image/png": "[encoded data removed]",
      "text/plain": [
       "<Figure size 432x288 with 1 Axes>"
      ]
     },
     "metadata": {
      "needs_background": "light"
     },
     "output_type": "display_data"
    }
   ],
   "source": [
    "#Debug Code for Z values \n",
    "time = 11\n",
    "plt.subplot(1,3,1)\n",
    "plt.hist(Z1_Debug[time])\n",
    "plt.hist(Z2_Debug[time])\n",
    "plt.hist(Z3_Debug[time])\n",
    "plt.show()\n"
   ]
  },
  {
   "cell_type": "code",
   "execution_count": 236,
   "metadata": {},
   "outputs": [
    {
     "data": {
      "image/png": "[encoded data removed]",
      "text/plain": [
       "<Figure size 432x288 with 1 Axes>"
      ]
     },
     "metadata": {
      "needs_background": "light"
     },
     "output_type": "display_data"
    },
    {
     "data": {
      "image/png": "[encoded data removed]",
      "text/plain": [
       "<Figure size 432x288 with 1 Axes>"
      ]
     },
     "metadata": {
      "needs_background": "light"
     },
     "output_type": "display_data"
    },
    {
     "data": {
      "image/png": "[encoded data removed]",
      "text/plain": [
       "<Figure size 432x288 with 1 Axes>"
      ]
     },
     "metadata": {
      "needs_background": "light"
     },
     "output_type": "display_data"
    },
    {
     "data": {
      "image/png": "[encoded data removed]",
      "text/plain": [
       "<Figure size 432x288 with 1 Axes>"
      ]
     },
     "metadata": {
      "needs_background": "light"
     },
     "output_type": "display_data"
    }
   ],
   "source": [
    "#debug code for stock prices \n",
    "# print(St1[time])\n",
    "# print(St2[time])\n",
    "# print(St3[time])\n",
    "# print(Payoff[time])\n",
    "time = 10\n",
    "plt.plot(St1[time])\n",
    "plt.plot(St2[time])\n",
    "plt.plot(St3[time])\n",
    "plt.show()\n",
    "plt.boxplot(Payoff[time])\n",
    "plt.show()\n",
    "plt.boxplot(Cont_Val_Debug[time*2])\n",
    "plt.show()\n",
    "plt.boxplot(Cont_Val_Debug[time*2+1])\n",
    "plt.show()"
   ]
  },
  {
   "cell_type": "code",
   "execution_count": null,
   "metadata": {},
   "outputs": [],
   "source": [
    "#PLot Vt and cont vlue together to see regression values correctly"
   ]
  }
 ],
 "metadata": {
  "interpreter": {
   "hash": "08abd7b7c8d0be127d4e4a7867fced7f62c6dcfa7739a0184e3b4f48aa7caea7"
  },
  "kernelspec": {
   "display_name": "Python 3.9.10 64-bit (windows store)",
   "language": "python",
   "name": "python3"
  },
  "language_info": {
   "codemirror_mode": {
    "name": "ipython",
    "version": 3
   },
   "file_extension": ".py",
   "mimetype": "text/x-python",
   "name": "python",
   "nbconvert_exporter": "python",
   "pygments_lexer": "ipython3",
   "version": "3.9.12"
  },
  "orig_nbformat": 4
 },
 "nbformat": 4,
 "nbformat_minor": 2
}
