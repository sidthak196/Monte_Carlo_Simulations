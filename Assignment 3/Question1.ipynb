{
 "cells": [
  {
   "cell_type": "markdown",
   "metadata": {},
   "source": [
    "# Question 1 - Pricing Basket Options (European & Bermudian) "
   ]
  },
  {
   "cell_type": "code",
   "execution_count": 26,
   "metadata": {},
   "outputs": [],
   "source": [
    "import numpy as np\n",
    "import matplotlib.pyplot as plt\n",
    "import statsmodels.api as sm\n",
    "import pandas as pd"
   ]
  },
  {
   "cell_type": "markdown",
   "metadata": {},
   "source": [
    "## Initialize Variables "
   ]
  },
  {
   "cell_type": "code",
   "execution_count": 23,
   "metadata": {},
   "outputs": [],
   "source": [
    "S1o= 100        #Intial Value for stock 1\n",
    "S2o= 100        #Intial Value for stock 2\n",
    "S3o= 100        #Intial Value for stock 3\n",
    "K=100           #Strike \n",
    "r = 0.05        #Risk free rate\n",
    "T = 1           #time\n",
    "sig = 0.3       #Volatility \n",
    "rho = 0.2       #Cross Correlation \n",
    "div = 0.02      #Dividends\n",
    "N =100000       #Simulations"
   ]
  },
  {
   "cell_type": "markdown",
   "metadata": {},
   "source": [
    "## Main Code Block"
   ]
  },
  {
   "cell_type": "markdown",
   "metadata": {},
   "source": [
    "### Part a"
   ]
  },
  {
   "cell_type": "code",
   "execution_count": 29,
   "metadata": {},
   "outputs": [
    {
     "name": "stdout",
     "output_type": "stream",
     "text": [
      "Price of European Basket Option = 20.428555797502884\n",
      "Variance of price of European Basket Option = 0.009920036506598673\n"
     ]
    }
   ],
   "source": [
    "#Generate Normal Random Variables using Cholsky decomposition\n",
    "z1 = np.random.normal(0,1,N)\n",
    "Z22 = np.random.normal(0,1,N)\n",
    "z2 = z1*rho + (1 - rho**2)**0.5 * Z22\n",
    "z3 = rho*z1 + (((1 - rho**2)**-0.5) *(rho - rho**2)*Z22) + ((1 - rho**2 - ((rho - rho**2)**2)/(1-rho**2))**0.5)*np.random.normal(0,1,N)\n",
    "\n",
    "#Generate Stock prices and calculate Payoff \n",
    "S1 = S1o * np.exp((r - div - (sig**2)/2)*T + sig * T**0.5 * z1)\n",
    "S2 = S2o * np.exp((r - div - (sig**2)/2)*T + sig * T**0.5 * z2)\n",
    "S3 = S3o * np.exp((r - div - (sig**2)/2)*T + sig * T**0.5 * z3)\n",
    "\n",
    "Payoff = [max(S1[i] +S2[i] - S3[i] - K,0) for i in range(0,N)]\n",
    "\n",
    "print('Price of European Basket Option =', np.exp(-r*T)*np.mean(Payoff))\n",
    "print('Variance of price of European Basket Option =', np.exp(-r*2*T)*np.var(Payoff)/N)\n"
   ]
  },
  {
   "cell_type": "markdown",
   "metadata": {},
   "source": [
    "### Part b"
   ]
  },
  {
   "cell_type": "code",
   "execution_count": 25,
   "metadata": {},
   "outputs": [
    {
     "name": "stdout",
     "output_type": "stream",
     "text": [
      "Value of the Bermudian option :  23.7307867923991\n",
      "Variance of the Estimator :  0.0006085419949024689\n"
     ]
    }
   ],
   "source": [
    "\n",
    "m = 12 # No of Discretisation Steps\n",
    "h = T/m\n",
    "\n",
    "#intialize Stock prices \n",
    "St1 = [[S1o]*N]\n",
    "St2 = [[S2o]*N]\n",
    "St3 = [[S3o]*N]\n",
    "Payoff = [[0]*N]\n",
    "\n",
    "#Debug variables\n",
    "Z1_Debug = []\n",
    "Z2_Debug = []\n",
    "Z3_Debug = []\n",
    "Cont_Val_Debug = []\n",
    "\n",
    "# loop through all time steps to generate stock prices \n",
    "for i in range(1,m+1):\n",
    "    #Generate correlated normal r.v.\n",
    "    z1 = np.random.normal(0,1,N)\n",
    "    Z22 = np.random.normal(0,1,N)\n",
    "    z2 = z1*rho + (1 - rho**2)**0.5 * Z22\n",
    "    z3 = rho*z1 + (((1 - rho**2)**-0.5) *(rho - rho**2)*Z22) + ((1 - rho**2 - ((rho - rho**2)**2)/(1-rho**2))**0.5)*np.random.normal(0,1,N)\n",
    "\n",
    "    #Debug\n",
    "    Z1_Debug.append(z1)\n",
    "    Z2_Debug.append(z2)\n",
    "    Z3_Debug.append(z3)\n",
    "\n",
    "    # Generate Stock prices \n",
    "    St1.append(St1[i-1] * np.exp((r - div - (sig**2)/2)*(h) + (sig * h**0.5 * z1)))\n",
    "    St2.append(St2[i-1] * np.exp((r - div - (sig**2)/2)*(h) + (sig * h**0.5 * z2)))\n",
    "    St3.append(St3[i-1] * np.exp((r - div - (sig**2)/2)*(h) + (sig * h**0.5 * z3)))\n",
    "\n",
    "\n",
    "    #Generate Option Prices\n",
    "    Payoff.append(list([max(St1[i][k] +St2[i][k] - St3[i][k] - K,0) for k in range(0,N)]))\n",
    "\n",
    "\n",
    "#initialize Beta\n",
    "no_of_basis_func = 9\n",
    "beta = []\n",
    "\n",
    "# Set basis function of Stock prices \n",
    "Bas1 = [[s**2 for s in t] for t in St1]\n",
    "Bas2 = [[s**2 for s in t] for t in St2]\n",
    "Bas3 = [[s**2 for s in t] for t in St3]\n",
    "Bas4 = St1\n",
    "Bas5 = St2\n",
    "Bas6 = St3\n",
    "Bas7 = [ [St1[i][j] *St2[i][j] for j in range(0,N)] for i in range(0,m+1) ]\n",
    "Bas8 = [ [St3[i][j] *St2[i][j] for j in range(0,N)] for i in range(0,m+1) ]\n",
    "Bas9 = [ [St1[i][j] *St3[i][j] for j in range(0,N)] for i in range(0,m+1) ]\n",
    "\n",
    "#payoff function at each time\n",
    "ht =np.reshape( [ max(St1[i][j] + St2[i][j] - St3[i][j] - K,0) for i in range(0,m+1) for j in range(0,N)] , (m+1,N))\n",
    "Vt = [ht[m]]\n",
    "\n",
    "for i in range(m,0,-1):\n",
    "    #Run regression on payoff and basis functions with lag 1 to get Beta values\n",
    "    X = pd.DataFrame(list(zip(Bas1[i],Bas2[i],Bas3[i],Bas4[i],Bas5[i],Bas6[i],Bas7[i],Bas8[i],Bas9[i])))\n",
    "    Y = np.reshape(Vt[m-i],(N,1))\n",
    "    model = sm.OLS(Y,X).fit()\n",
    "    \n",
    "    #beta indexes are reversed here\n",
    "    beta.append(list(model.params))\n",
    "\n",
    "    #approximation of continuation value ; index will be reversed ; dimension is number of simulations \n",
    "    Cont_value = [np.exp(-r*T/m)*np.dot(beta[m-i],[Bas1[i][k],Bas2[i][k],Bas3[i][k],Bas4[i][k],Bas5[i][k],Bas6[i][k],Bas7[i][k],Bas8[i][k],Bas9[i][k]]) for k in range(0,N)]\n",
    "\n",
    "    #Debug\n",
    "    Cont_Val_Debug.append(Cont_value)\n",
    "    Cont_Val_Debug.append(Vt[m-i])\n",
    "\n",
    "    #Assign the max of approx continuation value and payoff at that time\n",
    "    temp = [max(Cont_value[k],ht[i][k]) for k in range(0,N)]\n",
    "    #Assign the max of actual value and payoff at that time\n",
    "    # temp = [max((np.exp(-r*T/m)*Vt[m-i][k]),ht[i][k]) for k in range(0,N)]\n",
    "\n",
    "    # print(temp)\n",
    "    Vt.append(temp)\n",
    "\n",
    "print(\"Value of the Bermudian option : \",np.exp(-r*T/m)*np.mean(Vt[12]))\n",
    "print(\"Variance of the Estimator : \", np.var(Vt[12])/N)\n"
   ]
  },
  {
   "cell_type": "markdown",
   "metadata": {},
   "source": [
    "### Debug Code"
   ]
  },
  {
   "cell_type": "code",
   "execution_count": 18,
   "metadata": {},
   "outputs": [
    {
     "data": {
      "image/png": "[encoded data removed]",
      "text/plain": [
       "<Figure size 432x288 with 1 Axes>"
      ]
     },
     "metadata": {
      "needs_background": "light"
     },
     "output_type": "display_data"
    }
   ],
   "source": [
    "#Debug Code for Z values \n",
    "time = 11\n",
    "plt.subplot(1,3,1)\n",
    "plt.hist(Z1_Debug[time])\n",
    "plt.hist(Z2_Debug[time])\n",
    "plt.hist(Z3_Debug[time])\n",
    "plt.show()\n"
   ]
  },
  {
   "cell_type": "code",
   "execution_count": 19,
   "metadata": {},
   "outputs": [
    {
     "data": {
      "image/png": "[encoded data removed]",
      "text/plain": [
       "<Figure size 432x288 with 1 Axes>"
      ]
     },
     "metadata": {
      "needs_background": "light"
     },
     "output_type": "display_data"
    },
    {
     "name": "stdout",
     "output_type": "stream",
     "text": [
      "Payoff\n"
     ]
    },
    {
     "data": {
      "image/png": "[encoded data removed]",
      "text/plain": [
       "<Figure size 432x288 with 1 Axes>"
      ]
     },
     "metadata": {
      "needs_background": "light"
     },
     "output_type": "display_data"
    },
    {
     "name": "stdout",
     "output_type": "stream",
     "text": [
      "Continuation value regression\n"
     ]
    },
    {
     "data": {
      "image/png": "[encoded data removed]",
      "text/plain": [
       "<Figure size 432x288 with 1 Axes>"
      ]
     },
     "metadata": {
      "needs_background": "light"
     },
     "output_type": "display_data"
    },
    {
     "name": "stdout",
     "output_type": "stream",
     "text": [
      "Continuation value actual\n"
     ]
    },
    {
     "data": {
      "image/png": "[encoded data removed]",
      "text/plain": [
       "<Figure size 432x288 with 1 Axes>"
      ]
     },
     "metadata": {
      "needs_background": "light"
     },
     "output_type": "display_data"
    },
    {
     "name": "stdout",
     "output_type": "stream",
     "text": [
      "St1\n"
     ]
    },
    {
     "data": {
      "image/png": "[encoded data removed]",
      "text/plain": [
       "<Figure size 432x288 with 1 Axes>"
      ]
     },
     "metadata": {
      "needs_background": "light"
     },
     "output_type": "display_data"
    },
    {
     "name": "stdout",
     "output_type": "stream",
     "text": [
      "St2\n"
     ]
    },
    {
     "data": {
      "image/png": "[encoded data removed]",
      "text/plain": [
       "<Figure size 432x288 with 1 Axes>"
      ]
     },
     "metadata": {
      "needs_background": "light"
     },
     "output_type": "display_data"
    },
    {
     "name": "stdout",
     "output_type": "stream",
     "text": [
      "St3\n"
     ]
    },
    {
     "data": {
      "image/png": "[encoded data removed]",
      "text/plain": [
       "<Figure size 432x288 with 1 Axes>"
      ]
     },
     "metadata": {
      "needs_background": "light"
     },
     "output_type": "display_data"
    }
   ],
   "source": [
    "#debug code for stock prices \n",
    "# print(St1[time])\n",
    "# print(St2[time])\n",
    "# print(St3[time])\n",
    "# print(Payoff[time])\n",
    "time = 11\n",
    "plt.plot(St1[time])\n",
    "plt.plot(St2[time])\n",
    "plt.plot(St3[time])\n",
    "plt.show()\n",
    "print(\"Payoff\")\n",
    "plt.boxplot(Payoff[time])\n",
    "plt.show()\n",
    "print(\"Continuation value regression\")\n",
    "plt.boxplot(Cont_Val_Debug[time*2])\n",
    "plt.show()\n",
    "print(\"Continuation value actual\")\n",
    "plt.boxplot(Cont_Val_Debug[time*2+1])\n",
    "plt.show()\n",
    "print(\"St1\")\n",
    "plt.boxplot(St1[time])\n",
    "plt.show()\n",
    "print(\"St2\")\n",
    "plt.boxplot(St2[time])\n",
    "plt.show()\n",
    "print(\"St3\")\n",
    "plt.boxplot(St3[time])\n",
    "plt.show()"
   ]
  },
  {
   "cell_type": "code",
   "execution_count": 20,
   "metadata": {},
   "outputs": [
    {
     "data": {
      "image/png": "[encoded data removed]",
      "text/plain": [
       "<Figure size 432x288 with 1 Axes>"
      ]
     },
     "metadata": {
      "needs_background": "light"
     },
     "output_type": "display_data"
    },
    {
     "data": {
      "text/plain": [
       "count    100000.000000\n",
       "mean          1.030865\n",
       "std           0.316288\n",
       "min           0.250604\n",
       "25%           0.805294\n",
       "50%           0.985652\n",
       "75%           1.204758\n",
       "max           3.437715\n",
       "dtype: float64"
      ]
     },
     "execution_count": 20,
     "metadata": {},
     "output_type": "execute_result"
    }
   ],
   "source": [
    "nmp = np.exp((r - div - (sig**2)/2)*T + sig * z1)\n",
    "plt.boxplot(nmp)\n",
    "plt.show()\n",
    "pd.Series(nmp).describe()"
   ]
  },
  {
   "cell_type": "code",
   "execution_count": null,
   "metadata": {},
   "outputs": [],
   "source": []
  }
 ],
 "metadata": {
  "interpreter": {
   "hash": "08abd7b7c8d0be127d4e4a7867fced7f62c6dcfa7739a0184e3b4f48aa7caea7"
  },
  "kernelspec": {
   "display_name": "Python 3.9.10 64-bit (windows store)",
   "language": "python",
   "name": "python3"
  },
  "language_info": {
   "codemirror_mode": {
    "name": "ipython",
    "version": 3
   },
   "file_extension": ".py",
   "mimetype": "text/x-python",
   "name": "python",
   "nbconvert_exporter": "python",
   "pygments_lexer": "ipython3",
   "version": "3.9.12"
  },
  "orig_nbformat": 4
 },
 "nbformat": 4,
 "nbformat_minor": 2
}
