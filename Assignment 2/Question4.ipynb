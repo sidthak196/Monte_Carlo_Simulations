{
 "cells": [
  {
   "cell_type": "code",
   "execution_count": 2,
   "metadata": {},
   "outputs": [],
   "source": [
    "import numpy as np\n",
    "import pandas as pd \n",
    "import math\n",
    "from collections import Counter\n",
    "import statistics\n",
    "from scipy.optimize import fsolve\n",
    "import matplotlib.pyplot as plt"
   ]
  },
  {
   "cell_type": "code",
   "execution_count": 16,
   "metadata": {},
   "outputs": [],
   "source": [
    "So= 100\n",
    "K=120\n",
    "vo=0.04\n",
    "r = 0.03\n",
    "T = 0.5\n",
    "rho = -0.7\n",
    "kt=2\n",
    "theta = 0.04\n",
    "sig_v = 0.5\n"
   ]
  },
  {
   "cell_type": "code",
   "execution_count": 13,
   "metadata": {},
   "outputs": [],
   "source": []
  },
  {
   "cell_type": "code",
   "execution_count": 47,
   "metadata": {},
   "outputs": [],
   "source": [
    "\n",
    "def Pr_lookback_call(m,N):\n",
    "    step = T/m\n",
    "    vt = [vo]*m\n",
    "    St=[So]*m\n",
    "    c= [0]*N\n",
    "\n",
    "    for sim in range(N):\n",
    "        t = 0\n",
    "        for i in range(m-1):\n",
    "            Z = np.random.normal(0,1,2)\n",
    "            Z1 = Z[0]\n",
    "            Z2 = -rho*Z[0] + (1-rho**2)**0.5 * Z[1]\n",
    "            t = t+step\n",
    "            # print(i,t)\n",
    "            #Using Euler method for heston model\n",
    "            vt[i+1] = vt[i] + kt*(theta - max(vt[i],0))*t + (sig_v * max(vt[i],0)**0.5)*step**0.5 * Z2\n",
    "            St[i+1] = St[i] *np.exp((r - vt[i]/2)*step + (max(vt[i],0)*step)**0.5 *Z2)\n",
    "        c[sim] = np.exp(-r*T)*max(max(St) - K,0)\n",
    "    return(c)\n",
    "\n",
    "\n"
   ]
  },
  {
   "cell_type": "code",
   "execution_count": 58,
   "metadata": {},
   "outputs": [
    {
     "name": "stdout",
     "output_type": "stream",
     "text": [
      "0.8189105053015667\n",
      "1.6422129127675715\n",
      "1.7586366031705847\n"
     ]
    }
   ],
   "source": [
    "m = [3,6,12]\n",
    "n = 10000\n",
    "for i in m:\n",
    "    S = Pr_lookback_call(i,n)\n",
    "    print(np.mean(S))\n",
    "    \n"
   ]
  }
 ],
 "metadata": {
  "interpreter": {
   "hash": "08abd7b7c8d0be127d4e4a7867fced7f62c6dcfa7739a0184e3b4f48aa7caea7"
  },
  "kernelspec": {
   "display_name": "Python 3.9.10 64-bit (windows store)",
   "language": "python",
   "name": "python3"
  },
  "language_info": {
   "codemirror_mode": {
    "name": "ipython",
    "version": 3
   },
   "file_extension": ".py",
   "mimetype": "text/x-python",
   "name": "python",
   "nbconvert_exporter": "python",
   "pygments_lexer": "ipython3",
   "version": "3.9.10"
  },
  "orig_nbformat": 4
 },
 "nbformat": 4,
 "nbformat_minor": 2
}
