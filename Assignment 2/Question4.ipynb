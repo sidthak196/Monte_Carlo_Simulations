{
 "cells": [
  {
   "cell_type": "code",
   "execution_count": 3,
   "metadata": {},
   "outputs": [],
   "source": [
    "import numpy as np\n",
    "import pandas as pd \n",
    "import math\n",
    "from collections import Counter\n",
    "import statistics\n",
    "from scipy.optimize import fsolve\n",
    "import matplotlib.pyplot as plt"
   ]
  },
  {
   "cell_type": "code",
   "execution_count": 4,
   "metadata": {},
   "outputs": [],
   "source": [
    "So= 100\n",
    "K=120\n",
    "vo=0.04\n",
    "r = 0.03\n",
    "T = 0.5\n",
    "rho = -0.7\n",
    "kt=2\n",
    "theta = 0.04\n",
    "sig_v = 0.5\n"
   ]
  },
  {
   "cell_type": "code",
   "execution_count": 24,
   "metadata": {},
   "outputs": [],
   "source": [
    "#Define function for calculating the value of Lookback call option\n",
    "def Pr_lookback_call(m,N):\n",
    "    disc_time = 100                                     #Discretization time periods\n",
    "    step = T/(m*disc_time)                              #Step value for discrete periods\n",
    "    c= [0]*N                                            #Initialize call price array for N simulations\n",
    "    for sim in range(N):\n",
    "        St=[So]*(m+1)                                       #Initialize stock price array\n",
    "        temp_St = [So]*disc_time                        #Initialize temperory stock price array\n",
    "        for i in range(m):\n",
    "            temp_vt = [vo]*disc_time                    #Initialize temperory stock price array\n",
    "            for j in range(disc_time-1):   \n",
    "\n",
    "                #Simulate correlated Random variables              \n",
    "                Z = np.random.normal(0,1,2)             \n",
    "                Z1 = Z[0]\n",
    "                Z2 = rho*Z[0] + (1-rho**2)**0.5 * Z[1]\n",
    "\n",
    "                #Using Euler method for heston model under discretization with h = step\n",
    "                temp_vt[j+1] = temp_vt[j] + kt*(theta - abs(temp_vt[j]))*step + (sig_v * abs(temp_vt[j]*step)**0.5 * Z1)\n",
    "                temp_St[j+1] = temp_St[j] *np.exp((r - temp_vt[j]/2)*step + (abs(temp_vt[j])*step)**0.5 *Z2)\n",
    "\n",
    "            #Store stock price and set initial price for next step\n",
    "            St[i+1]=temp_St[0] = temp_St[disc_time-1]\n",
    "            # print(sim, i, St[i+1])                    #Debug\n",
    "        #Calculate Call price \n",
    "        c[sim] = np.exp(-r*T)*max(max(St) - K,0)\n",
    "    return(c)\n",
    "\n",
    "\n"
   ]
  },
  {
   "cell_type": "code",
   "execution_count": 25,
   "metadata": {},
   "outputs": [
    {
     "name": "stdout",
     "output_type": "stream",
     "text": [
      "m =  3 , Call Price =  0.5726200526422432\n",
      "m =  6 , Call Price =  0.909917044161619\n",
      "m =  12 , Call Price =  1.101846601037953\n"
     ]
    }
   ],
   "source": [
    "m = [3,6,12]                                        #List of steps as required \n",
    "n = 10000                                         #Number of Simulations \n",
    "for i in m:                                         \n",
    "    S = Pr_lookback_call(i,n)                       #Get call price for that m\n",
    "    print(\"m = \",i,\", Call Price = \",np.mean(S))\n",
    "    # print(S)\n",
    "    \n"
   ]
  },
  {
   "cell_type": "code",
   "execution_count": null,
   "metadata": {},
   "outputs": [],
   "source": []
  },
  {
   "cell_type": "code",
   "execution_count": null,
   "metadata": {},
   "outputs": [],
   "source": []
  },
  {
   "cell_type": "code",
   "execution_count": null,
   "metadata": {},
   "outputs": [],
   "source": []
  }
 ],
 "metadata": {
  "interpreter": {
   "hash": "08abd7b7c8d0be127d4e4a7867fced7f62c6dcfa7739a0184e3b4f48aa7caea7"
  },
  "kernelspec": {
   "display_name": "Python 3.9.10 64-bit (windows store)",
   "language": "python",
   "name": "python3"
  },
  "language_info": {
   "codemirror_mode": {
    "name": "ipython",
    "version": 3
   },
   "file_extension": ".py",
   "mimetype": "text/x-python",
   "name": "python",
   "nbconvert_exporter": "python",
   "pygments_lexer": "ipython3",
   "version": "3.9.10"
  },
  "orig_nbformat": 4
 },
 "nbformat": 4,
 "nbformat_minor": 2
}
