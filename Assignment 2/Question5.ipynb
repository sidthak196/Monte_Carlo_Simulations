{
 "cells": [
  {
   "cell_type": "code",
   "execution_count": 1,
   "metadata": {},
   "outputs": [],
   "source": [
    "import numpy as np\n",
    "import pandas as pd \n",
    "import math\n",
    "from collections import Counter\n",
    "import statistics\n",
    "from scipy.optimize import fsolve\n",
    "import matplotlib.pyplot as plt"
   ]
  },
  {
   "cell_type": "code",
   "execution_count": 3,
   "metadata": {},
   "outputs": [],
   "source": [
    "So= 100\n",
    "K=100\n",
    "r = 0.03\n",
    "div = 0\n",
    "theta= -0.1\n",
    "sig = 0.2\n",
    "nu = 0.2\n",
    "omega=np.log(1-(theta*nu)-sig**2*nu/2)/nu \n",
    "h=0.25 #Time step"
   ]
  },
  {
   "cell_type": "code",
   "execution_count": 10,
   "metadata": {},
   "outputs": [],
   "source": [
    "#Since this is a gamma process, no need to discretize \n",
    "\n",
    "N=100000 # Number of Simulations\n",
    "St = [[So,So,So]]*N # 2d array to store values at T=0,1,2\n",
    "payoff = [0]*N \n",
    "for sim in range(N):\n",
    "    for i in range(2):\n",
    "        #Generate Gamma and Normal variables \n",
    "        z = np.random.normal(0,1)\n",
    "        g = np.random.gamma(h/nu,nu)\n",
    "\n",
    "        # Calculate Increment\n",
    "        X = (theta *g) + (sig * (g**0.5) * z)\n",
    "\n",
    "        # Simulate Stock price\n",
    "        St[sim][i+1] = St[sim][i] * np.exp((r-div+omega)*h + X)\n",
    "    #Calculate Payoff for each simulation \n",
    "    payoff[sim] = max(St[sim][2] - min(K,St[sim][1]),0) \n",
    "\n",
    "    #print(K, St[sim][1],St[sim][2])   #Debug\n",
    "    \n",
    "#Value of option    \n",
    "val = np.exp(-r*0.5)*np.mean(payoff)\n",
    "\n"
   ]
  },
  {
   "cell_type": "code",
   "execution_count": 11,
   "metadata": {},
   "outputs": [
    {
     "data": {
      "text/plain": [
       "7.258266230019906"
      ]
     },
     "execution_count": 11,
     "metadata": {},
     "output_type": "execute_result"
    }
   ],
   "source": [
    "val"
   ]
  },
  {
   "cell_type": "code",
   "execution_count": null,
   "metadata": {},
   "outputs": [],
   "source": []
  }
 ],
 "metadata": {
  "interpreter": {
   "hash": "08abd7b7c8d0be127d4e4a7867fced7f62c6dcfa7739a0184e3b4f48aa7caea7"
  },
  "kernelspec": {
   "display_name": "Python 3.9.10 64-bit (windows store)",
   "language": "python",
   "name": "python3"
  },
  "language_info": {
   "codemirror_mode": {
    "name": "ipython",
    "version": 3
   },
   "file_extension": ".py",
   "mimetype": "text/x-python",
   "name": "python",
   "nbconvert_exporter": "python",
   "pygments_lexer": "ipython3",
   "version": "3.9.10"
  },
  "orig_nbformat": 4
 },
 "nbformat": 4,
 "nbformat_minor": 2
}
