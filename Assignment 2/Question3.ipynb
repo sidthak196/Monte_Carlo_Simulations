{
 "cells": [
  {
   "cell_type": "code",
   "execution_count": 1,
   "metadata": {},
   "outputs": [],
   "source": [
    "import numpy as np\n",
    "import pandas as pd \n",
    "import math\n",
    "from collections import Counter\n",
    "import statistics\n",
    "from scipy.optimize import fsolve\n",
    "import matplotlib.pyplot as plt"
   ]
  },
  {
   "cell_type": "code",
   "execution_count": 2,
   "metadata": {},
   "outputs": [],
   "source": [
    "So= 100\n",
    "K=110\n",
    "r = 0.05\n",
    "T = 1"
   ]
  },
  {
   "cell_type": "code",
   "execution_count": 16,
   "metadata": {},
   "outputs": [
    {
     "name": "stdout",
     "output_type": "stream",
     "text": [
      "11.040041652723527\n"
     ]
    }
   ],
   "source": [
    "m = 252 # No of Discretisation Steps\n",
    "n=100000 # Number of Simulations\n",
    "step = T/m # Discretisation Steps\n",
    "\n",
    "#Initialize arrays\n",
    "St = [So]*m \n",
    "c = [0]*n\n",
    "\n",
    "#Using Euler scheme to generate stock price as discretization is needed\n",
    "\n",
    "#Simulation loop\n",
    "for sim in range(0,n):\n",
    "\n",
    "    #number of discreete time steps\n",
    "    for i in range(0,m-1):\n",
    "\n",
    "        #Generate Normal and deterministic sigma according to Euler method and the question\n",
    "        X = np.random.normal(0,1)\n",
    "        sig = 0.5 *math.exp(-step*i) * (100/St[i])**0.3\n",
    "        St[i+1] = St[i] + (r *St[i]* step) + (sig * St[i]* (step**0.5) * X)\n",
    "        # print(i,sig,St[i+1]) #Debug\n",
    "\n",
    "    #Calculate value of call \n",
    "    c[sim]=np.exp(-r*T)*max(St[m-1]-K,0)\n",
    "print(np.mean(c)) #Print mean value"
   ]
  }
 ],
 "metadata": {
  "interpreter": {
   "hash": "08abd7b7c8d0be127d4e4a7867fced7f62c6dcfa7739a0184e3b4f48aa7caea7"
  },
  "kernelspec": {
   "display_name": "Python 3.9.10 64-bit (windows store)",
   "language": "python",
   "name": "python3"
  },
  "language_info": {
   "codemirror_mode": {
    "name": "ipython",
    "version": 3
   },
   "file_extension": ".py",
   "mimetype": "text/x-python",
   "name": "python",
   "nbconvert_exporter": "python",
   "pygments_lexer": "ipython3",
   "version": "3.9.10"
  },
  "orig_nbformat": 4
 },
 "nbformat": 4,
 "nbformat_minor": 2
}
