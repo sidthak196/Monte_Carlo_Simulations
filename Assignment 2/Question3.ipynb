{
 "cells": [
  {
   "cell_type": "code",
   "execution_count": 1,
   "metadata": {},
   "outputs": [],
   "source": [
    "import numpy as np\n",
    "import pandas as pd \n",
    "import math\n",
    "from collections import Counter\n",
    "import statistics\n",
    "from scipy.optimize import fsolve\n",
    "import matplotlib.pyplot as plt"
   ]
  },
  {
   "cell_type": "code",
   "execution_count": 12,
   "metadata": {},
   "outputs": [],
   "source": [
    "So= 100\n",
    "K=110\n",
    "r = 0.05\n",
    "T = 1"
   ]
  },
  {
   "cell_type": "code",
   "execution_count": null,
   "metadata": {},
   "outputs": [],
   "source": [
    "m = 1000\n",
    "n=10000\n",
    "step = T/m\n",
    "St = [So]*m\n",
    "Xt = [So]*n\n",
    "#Using Euler scheme \n",
    "for sim in range(0,n):\n",
    "    rng = np.arange(step,T, step)\n",
    "    loc = 0\n",
    "    for i in rng:\n",
    "        loc = loc + 1\n",
    "        X = np.random.normal(0,1)\n",
    "        sig = 0.5 *math.exp(-i * (100/St[loc-1])**0.3)\n",
    "        St[loc] = St[loc-1] + r * step + sig * math.sqrt(step) * X\n",
    "    Xt[sim]=St[loc]\n",
    "print(Xt)"
   ]
  },
  {
   "cell_type": "code",
   "execution_count": 11,
   "metadata": {},
   "outputs": [
    {
     "data": {
      "text/plain": [
       "100.04955929078344"
      ]
     },
     "execution_count": 11,
     "metadata": {},
     "output_type": "execute_result"
    }
   ],
   "source": [
    "np.mean(Xt)"
   ]
  }
 ],
 "metadata": {
  "interpreter": {
   "hash": "08abd7b7c8d0be127d4e4a7867fced7f62c6dcfa7739a0184e3b4f48aa7caea7"
  },
  "kernelspec": {
   "display_name": "Python 3.9.10 64-bit (windows store)",
   "language": "python",
   "name": "python3"
  },
  "language_info": {
   "codemirror_mode": {
    "name": "ipython",
    "version": 3
   },
   "file_extension": ".py",
   "mimetype": "text/x-python",
   "name": "python",
   "nbconvert_exporter": "python",
   "pygments_lexer": "ipython3",
   "version": "3.9.10"
  },
  "orig_nbformat": 4
 },
 "nbformat": 4,
 "nbformat_minor": 2
}
